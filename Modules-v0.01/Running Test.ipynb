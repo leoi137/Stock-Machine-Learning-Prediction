{
 "cells": [
  {
   "cell_type": "code",
   "execution_count": 1,
   "metadata": {},
   "outputs": [],
   "source": [
    "from Data import YahooData\n",
    "from StockFeatureBuilder import FeatureData\n",
    "from FeatureSelection import Feature_and_Splitting\n",
    "from RandomForest import RandomForestAlgorithm\n",
    "from ModelStatistics import Statistics\n",
    "\n",
    "from sklearn.ensemble import RandomForestClassifier\n",
    "from sklearn.metrics import confusion_matrix\n",
    "from sklearn.model_selection import cross_val_score\n",
    "\n",
    "import json\n",
    "import time\n",
    "import pickle\n",
    "import pandas as pd\n",
    "import numpy as np\n",
    "import matplotlib.pyplot as plt\n",
    "from datetime import date\n",
    "\n",
    "import warnings\n",
    "warnings.filterwarnings('ignore')"
   ]
  },
  {
   "cell_type": "code",
   "execution_count": 2,
   "metadata": {},
   "outputs": [],
   "source": [
    "symbols = ['FB', 'AAPL', 'AMZN', 'NFLX']\n",
    "\n",
    "start = date(2010, 1, 1)\n",
    "end = date.today()\n",
    "\n",
    "kind = 'Regression'\n",
    "kind = 'Classification'\n",
    "\n",
    "plt.style.use('ggplot')"
   ]
  },
  {
   "cell_type": "markdown",
   "metadata": {},
   "source": [
    "Gathers yahoo data and creates multiple features."
   ]
  },
  {
   "cell_type": "code",
   "execution_count": 3,
   "metadata": {
    "scrolled": true
   },
   "outputs": [
    {
     "name": "stdout",
     "output_type": "stream",
     "text": [
      "Gathering Data...\n",
      "\n",
      "Gathering the data took: 2.5668 seconds\n",
      "\n",
      "Creating Features...\n",
      "\n",
      "Changing data type from 64-bit to 32-bit...\n",
      "Type conversion took: 0.0020\n",
      "\n",
      "Creating Bars...\n",
      "Bar creation took: 1.0248\n",
      "\n",
      "Taking percentage change...\n",
      "Percentage change took: 0.1523\n",
      "\n",
      "Taking percentage change...\n",
      "Percentage change took: 0.0074\n",
      "\n",
      "Taking Derivatives\n",
      "Derivatives took: 0.1631\n",
      "\n",
      "Taking Multiple STDV...\n",
      "Multiple STDV took: 0.3652\n",
      "\n",
      "Taking Multiple STDV Derivative...\n",
      "Multiple Derivative STDV took: 0.0949\n",
      "\n",
      "Calculating EMAs...\n",
      "EMAs took: 0.2927\n",
      "\n",
      "Getting speed of bars...\n",
      "Speed took: 0.1769\n",
      "\n",
      "Taking derivative of speed of bars...\n",
      "Derivative of Speed took: 0.0644\n",
      "\n",
      "Calculating EMAs Differences...\n",
      "EMAs Differences took: 0.1419\n",
      "\n",
      "Creating Pin bars...\n",
      "Pin Bar took: 0.3439\n",
      "\n",
      "Taking bar ohlc differences...\n",
      "Bar Diff took: 0.7310\n",
      "\n",
      "Taking derivative of bar ohlc differences...\n",
      "Derivative of Bar Diff took: 0.0260\n",
      "\n",
      "Getting bar percentages...\n",
      "Bar percentages took: 0.2981\n",
      "\n",
      "Creating the features took: 3.8862 seconds\n",
      "\n",
      "Creating Target...\n",
      "\n",
      "Loading FB...\n",
      "* FB Completed in 0.0584 seconds\n",
      "\n",
      "Loading AAPL...\n",
      "* AAPL Completed in 0.0796 seconds\n",
      "\n",
      "Loading AMZN...\n",
      "* AMZN Completed in 0.0798 seconds\n",
      "\n",
      "Loading NFLX...\n",
      "* NFLX Completed in 0.0813 seconds\n",
      "\n",
      "Concatinating Targets...\n",
      "Target concatination completed in 0.1002 seconds\n",
      "\n",
      "Cleaning and formating the data...\n",
      "Clearning the data took: 0.4298 seconds\n",
      "Gathering all data took: 7.3126 seconds\n",
      "\n",
      "Number of rows: 8693\n",
      "Number of columns: 910\n",
      "Total Data Points: 7919323\n"
     ]
    }
   ],
   "source": [
    "if __name__ == '__main__':\n",
    "    \n",
    "    start_all = time.perf_counter()\n",
    "\n",
    "    yho = YahooData(symbols, start, end)\n",
    "    yho_data = yho.get_data()\n",
    "\n",
    "    strc = FeatureData(yho_data, symbols, kind = kind, future = 2)\n",
    "    data = strc.main(True)\n",
    "\n",
    "    y_vals = data['Target']\n",
    "    X_vals = data.drop(['Target'], axis = 1)\n",
    "    X = X_vals.values\n",
    "\n",
    "    print(\"Gathering all data took: {:0.4f} seconds\\n\".format(time.perf_counter() - start_all))\n",
    "    print(\"Number of rows:\", len(data))\n",
    "    print(\"Number of columns:\", len(X_vals.columns))\n",
    "    total = len(data) * len(data.columns)\n",
    "    print(\"Total Data Points: {}\".format(total))"
   ]
  },
  {
   "cell_type": "markdown",
   "metadata": {},
   "source": [
    "Runs a Feature Selection"
   ]
  },
  {
   "cell_type": "code",
   "execution_count": 4,
   "metadata": {
    "scrolled": true
   },
   "outputs": [
    {
     "name": "stdout",
     "output_type": "stream",
     "text": [
      "Feature Selection...\n",
      "-------------------------\n",
      "Feature Selection took: 0.0865 seconds\n",
      "\n",
      "Number of new features: 50\n",
      "Total Data Points: 434650\n"
     ]
    }
   ],
   "source": [
    "FnS = Feature_and_Splitting(X_vals, y_vals, test_size = 0.2, K_feat = 50, columns = X_vals.columns)\n",
    "new_feat, dropped, X_scaler, X_train_selected, X_test_selected, y_train, y_test = FnS.main()\n",
    "\n",
    "print(\"Number of new features:\", len(new_feat))\n",
    "rows = len(data)\n",
    "cols = len(new_feat)\n",
    "\n",
    "total = rows * cols\n",
    "print(\"Total Data Points: {}\".format(total))"
   ]
  },
  {
   "cell_type": "markdown",
   "metadata": {},
   "source": [
    "Runs multiple random forest models with various trees."
   ]
  },
  {
   "cell_type": "code",
   "execution_count": 5,
   "metadata": {},
   "outputs": [
    {
     "name": "stdout",
     "output_type": "stream",
     "text": [
      "Random Forest Estimator: 20 of 300\n",
      "Random Forest Estimator: 40 of 300\n",
      "Random Forest Estimator: 60 of 300\n",
      "Random Forest Estimator: 80 of 300\n",
      "Random Forest Estimator: 100 of 300\n",
      "Random Forest Estimator: 120 of 300\n",
      "Random Forest Estimator: 140 of 300\n",
      "Random Forest Estimator: 160 of 300\n",
      "Random Forest Estimator: 180 of 300\n",
      "Random Forest Estimator: 200 of 300\n",
      "Random Forest Estimator: 220 of 300\n",
      "Random Forest Estimator: 240 of 300\n",
      "Random Forest Estimator: 260 of 300\n",
      "Random Forest Estimator: 280 of 300\n",
      "Random Forest Estimator: 300 of 300\n"
     ]
    },
    {
     "data": {
      "image/png": "[encoded data removed]",
      "text/plain": [
       "<Figure size 720x576 with 1 Axes>"
      ]
     },
     "metadata": {},
     "output_type": "display_data"
    },
    {
     "name": "stdout",
     "output_type": "stream",
     "text": [
      "Random Forest Took: 45.65868775299987 seconds\n"
     ]
    }
   ],
   "source": [
    "start = time.perf_counter()\n",
    "\n",
    "rf = RandomForestAlgorithm(X_train_selected, X_test_selected, y_train, y_test)\n",
    "\n",
    "n_jobs = -1\n",
    "n_estimators = 300\n",
    "step_factor = 20\n",
    "axis_step = int(n_estimators/step_factor)\n",
    "if kind == 'Regression':\n",
    "    train_res, test_res, estimators, last_model = rf.random_forest_regressor(n_jobs, n_estimators, step_factor, axis_step)\n",
    "    rf.graph(train_res, test_res, estimators, chart = 'Test')\n",
    "\n",
    "else:\n",
    "    train_res, test_res, estimators, last_model = rf.random_forest_classifier(n_jobs, n_estimators, step_factor, axis_step)\n",
    "    rf.graph(train_res, test_res, estimators, chart = 'Test')\n",
    "\n",
    "print(\"Random Forest Took: {} seconds\".format(time.perf_counter() - start))"
   ]
  },
  {
   "cell_type": "markdown",
   "metadata": {},
   "source": [
    "Chooses the amount of trees that gave the best results."
   ]
  },
  {
   "cell_type": "code",
   "execution_count": 6,
   "metadata": {},
   "outputs": [
    {
     "name": "stdout",
     "output_type": "stream",
     "text": [
      "Trees: 200\n",
      "Creating Best Model...\n",
      "-------------------------\n",
      "Took: 3.07198051999967 seconds\n"
     ]
    }
   ],
   "source": [
    "test_results = pd.concat([\n",
    "    pd.DataFrame(test_res, columns = ['Results']), \n",
    "    pd.DataFrame(estimators, columns = ['Estimators'])], \n",
    "    axis = 1)\n",
    "\n",
    "loc = test_results['Results'].idxmax()\n",
    "trees = int(test_results.iloc[loc, -1])\n",
    "\n",
    "print(f\"Trees: {trees}\")\n",
    "\n",
    "print(\"Creating Best Model...\")\n",
    "print('-------------------------')\n",
    "start = time.perf_counter()\n",
    "\n",
    "if kind == 'Regression':\n",
    "    Model = RandomForestRegressor(n_estimators = trees, n_jobs = -1)\n",
    "    Model.fit(X_train_selected, y_train)\n",
    "else:\n",
    "    Model = RandomForestClassifier(n_estimators = trees, n_jobs = -1)\n",
    "    Model.fit(X_train_selected, y_train)\n",
    "    \n",
    "print(\"Took: {} seconds\".format(time.perf_counter() - start))"
   ]
  },
  {
   "cell_type": "code",
   "execution_count": 7,
   "metadata": {
    "scrolled": true
   },
   "outputs": [
    {
     "data": {
      "text/plain": [
       "[('pct: derivative', 0.076),\n",
       " ('high pct: derivative', 0.044),\n",
       " ('low pct: derivative', 0.043),\n",
       " ('volume - derivative', 0.042),\n",
       " ('close - derivative', 0.024),\n",
       " ('high - close: 12', 0.022),\n",
       " ('Speed / 10bars: derivative', 0.021),\n",
       " ('high - low: derivative', 0.02),\n",
       " ('low - open: derivative', 0.02),\n",
       " ('high - close: derivative', 0.02),\n",
       " ('Speed / 4bars: derivative', 0.019),\n",
       " ('Speed / 6bars: derivative', 0.019),\n",
       " ('close - open: derivative', 0.019),\n",
       " ('low - close: derivative', 0.019),\n",
       " ('low - derivative', 0.018),\n",
       " ('Speed / 2bars: derivative', 0.018),\n",
       " ('Speed / 14bars: derivative', 0.018),\n",
       " ('Speed / 20bars: derivative', 0.018),\n",
       " ('Speed / 24bars: derivative', 0.018),\n",
       " ('high - low', 0.018),\n",
       " ('high - open: derivative', 0.018),\n",
       " ('volume', 0.017),\n",
       " ('volume p - 20', 0.017),\n",
       " ('volume p - 24', 0.017),\n",
       " ('Speed / 8bars: derivative', 0.017),\n",
       " ('Speed / 12bars: derivative', 0.017),\n",
       " ('Speed / 22bars: derivative', 0.017),\n",
       " ('Speed / 26bars: derivative', 0.017),\n",
       " ('Speed / 28bars: derivative', 0.017),\n",
       " ('high - low: 10', 0.017),\n",
       " ('high - low: 15', 0.017),\n",
       " ('high - low: 20', 0.017),\n",
       " ('volume p - 2', 0.016),\n",
       " ('volume p - 6', 0.016),\n",
       " ('volume p - 7', 0.016),\n",
       " ('volume p - 11', 0.016),\n",
       " ('volume p - 13', 0.016),\n",
       " ('volume p - 25', 0.016),\n",
       " ('Speed / 16bars: derivative', 0.016),\n",
       " ('Speed / 18bars: derivative', 0.016),\n",
       " ('Speed / 30bars: derivative', 0.016),\n",
       " ('high - low: 11', 0.016),\n",
       " ('high - low: 12', 0.016),\n",
       " ('volume p - 12', 0.015),\n",
       " ('high - derivative', 0.015),\n",
       " ('open - derivative', 0.015),\n",
       " ('close STDV 10: 8', 0.015),\n",
       " ('low - open: 11', 0.015),\n",
       " ('low - open: 26', 0.015),\n",
       " ('close STDV 10: 7', 0.014)]"
      ]
     },
     "execution_count": 7,
     "metadata": {},
     "output_type": "execute_result"
    }
   ],
   "source": [
    "def model_feature_importances(model, model_features):\n",
    "    importances = list(model.feature_importances_)\n",
    "    feature_importances = [(feature, round(importance, 3))\n",
    "                           for feature, importance in zip(model_features, importances)]\n",
    "    sorted_feats = sorted(feature_importances, key = lambda x: x[1], reverse = True)\n",
    "    return sorted_feats\n",
    "\n",
    "model_feat = model_feature_importances(Model, new_feat)\n",
    "model_feat"
   ]
  },
  {
   "cell_type": "markdown",
   "metadata": {},
   "source": [
    "For K-fold Cross Validation"
   ]
  },
  {
   "cell_type": "code",
   "execution_count": 8,
   "metadata": {},
   "outputs": [],
   "source": [
    "def Filter_Values(X_vals, dropped):\n",
    "    X_all = X_vals.drop(dropped, axis = 1)\n",
    "    X_all = X_scaler.transform(X_all)\n",
    "    \n",
    "    return X_all\n",
    "\n",
    "X_all = Filter_Values(X_vals, dropped)"
   ]
  },
  {
   "cell_type": "code",
   "execution_count": 9,
   "metadata": {
    "scrolled": true
   },
   "outputs": [
    {
     "name": "stdout",
     "output_type": "stream",
     "text": [
      "k-Fold took: 38.344368774999566 seconds\n",
      "\n",
      "Mean Scores: 0.6774317070873314\n",
      "STDV Scores: 0.07855861166556166\n",
      "Confidence Interval ~ 95%: 0.5235, 0.8314\n",
      "\n",
      "Scores: [0.72330654 0.74597701 0.67011494 0.73417722 0.6881473  0.67779056\n",
      " 0.6858458  0.46375144 0.64096663 0.74423963]\n"
     ]
    }
   ],
   "source": [
    "start = time.perf_counter()\n",
    "\n",
    "scores = cross_val_score(Model, X_all, y_vals, cv = 10, n_jobs = -1)\n",
    "\n",
    "print(\"k-Fold took: {} seconds\\n\".format(time.perf_counter() - start))\n",
    "print(\"Mean Scores: {}\".format(scores.mean()))\n",
    "print(\"STDV Scores: {}\".format(scores.std()))\n",
    "print(\"Confidence Interval ~ 95%: {0:0.4f}, {1:0.4f}\".format(scores.mean() - scores.std() * 1.96, \n",
    "                                                   scores.mean() + scores.std() * 1.96))\n",
    "print(f\"\\nScores: {scores}\")"
   ]
  },
  {
   "cell_type": "markdown",
   "metadata": {},
   "source": [
    "Gets statistics and saves model with required data for later use. __NOTE__: This only works for classification models."
   ]
  },
  {
   "cell_type": "code",
   "execution_count": 10,
   "metadata": {},
   "outputs": [
    {
     "name": "stdout",
     "output_type": "stream",
     "text": [
      "Total Predictions: 0.1599%\n",
      "Successfully created the directory /home/leoi137/Desktop/Resources/Algorithms/Algo. Trading/Machine Learning - v2/Modules - v1.00/YHO-DlyDble-RF\n",
      "Total Predictions: 0.1599%\n"
     ]
    }
   ],
   "source": [
    "nan = np.array([0])\n",
    "# Set scores = nan if you do not want to run K-Fold\n",
    "\n",
    "S = Statistics(\n",
    "    X_test_selected, y_test, Model, new_feat, X_scaler = X_scaler, \n",
    "    y_scaler = None, scores = scores, size = 3\n",
    ")\n",
    "stats = S.statistics()\n",
    "file_name = 'YahooTomorrowDailyDoubleClassificationRF'\n",
    "nick_name = 'YHO-DlyDble-RF'\n",
    "S.save_all(file_name, nick_name)"
   ]
  },
  {
   "cell_type": "code",
   "execution_count": 11,
   "metadata": {
    "scrolled": true
   },
   "outputs": [
    {
     "data": {
      "text/html": [
       "<div>\n",
       "<style scoped>\n",
       "    .dataframe tbody tr th:only-of-type {\n",
       "        vertical-align: middle;\n",
       "    }\n",
       "\n",
       "    .dataframe tbody tr th {\n",
       "        vertical-align: top;\n",
       "    }\n",
       "\n",
       "    .dataframe thead th {\n",
       "        text-align: right;\n",
       "    }\n",
       "</style>\n",
       "<table border=\"1\" class=\"dataframe\">\n",
       "  <thead>\n",
       "    <tr style=\"text-align: right;\">\n",
       "      <th></th>\n",
       "      <th>Accuracy</th>\n",
       "    </tr>\n",
       "  </thead>\n",
       "  <tbody>\n",
       "    <tr>\n",
       "      <th>All</th>\n",
       "      <td>0.693500</td>\n",
       "    </tr>\n",
       "    <tr>\n",
       "      <th>Bull</th>\n",
       "      <td>0.716700</td>\n",
       "    </tr>\n",
       "    <tr>\n",
       "      <th>Bear</th>\n",
       "      <td>0.734700</td>\n",
       "    </tr>\n",
       "    <tr>\n",
       "      <th>Stalled</th>\n",
       "      <td>0.687900</td>\n",
       "    </tr>\n",
       "    <tr>\n",
       "      <th>STDV</th>\n",
       "      <td>0.078559</td>\n",
       "    </tr>\n",
       "  </tbody>\n",
       "</table>\n",
       "</div>"
      ],
      "text/plain": [
       "         Accuracy\n",
       "All      0.693500\n",
       "Bull     0.716700\n",
       "Bear     0.734700\n",
       "Stalled  0.687900\n",
       "STDV     0.078559"
      ]
     },
     "execution_count": 11,
     "metadata": {},
     "output_type": "execute_result"
    }
   ],
   "source": [
    "pd.DataFrame(stats['Accuracy'], index = ['Accuracy']).T"
   ]
  },
  {
   "cell_type": "code",
   "execution_count": 12,
   "metadata": {},
   "outputs": [
    {
     "data": {
      "text/html": [
       "<div>\n",
       "<style scoped>\n",
       "    .dataframe tbody tr th:only-of-type {\n",
       "        vertical-align: middle;\n",
       "    }\n",
       "\n",
       "    .dataframe tbody tr th {\n",
       "        vertical-align: top;\n",
       "    }\n",
       "\n",
       "    .dataframe thead th {\n",
       "        text-align: right;\n",
       "    }\n",
       "</style>\n",
       "<table border=\"1\" class=\"dataframe\">\n",
       "  <thead>\n",
       "    <tr style=\"text-align: right;\">\n",
       "      <th></th>\n",
       "      <th>-1</th>\n",
       "      <th>0</th>\n",
       "      <th>1</th>\n",
       "    </tr>\n",
       "  </thead>\n",
       "  <tbody>\n",
       "    <tr>\n",
       "      <th>0</th>\n",
       "      <td>72</td>\n",
       "      <td>196</td>\n",
       "      <td>8</td>\n",
       "    </tr>\n",
       "    <tr>\n",
       "      <th>1</th>\n",
       "      <td>21</td>\n",
       "      <td>1005</td>\n",
       "      <td>43</td>\n",
       "    </tr>\n",
       "    <tr>\n",
       "      <th>2</th>\n",
       "      <td>5</td>\n",
       "      <td>260</td>\n",
       "      <td>129</td>\n",
       "    </tr>\n",
       "  </tbody>\n",
       "</table>\n",
       "</div>"
      ],
      "text/plain": [
       "   -1     0    1\n",
       "0  72   196    8\n",
       "1  21  1005   43\n",
       "2   5   260  129"
      ]
     },
     "execution_count": 12,
     "metadata": {},
     "output_type": "execute_result"
    }
   ],
   "source": [
    "conf_matrix = pd.DataFrame(stats['Confusion Matrix'])\n",
    "conf_matrix"
   ]
  },
  {
   "cell_type": "code",
   "execution_count": null,
   "metadata": {},
   "outputs": [],
   "source": []
  }
 ],
 "metadata": {
  "kernelspec": {
   "display_name": "Python 3",
   "language": "python",
   "name": "python3"
  },
  "language_info": {
   "codemirror_mode": {
    "name": "ipython",
    "version": 3
   },
   "file_extension": ".py",
   "mimetype": "text/x-python",
   "name": "python",
   "nbconvert_exporter": "python",
   "pygments_lexer": "ipython3",
   "version": "3.6.8"
  }
 },
 "nbformat": 4,
 "nbformat_minor": 2
}
